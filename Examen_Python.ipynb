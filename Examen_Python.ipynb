{
 "cells": [
  {
   "cell_type": "code",
   "execution_count": 2,
   "metadata": {},
   "outputs": [
    {
     "name": "stdout",
     "output_type": "stream",
     "text": [
      "Introduce tu número: -12\n",
      "Tu número es negativo\n"
     ]
    }
   ],
   "source": [
    "numero = float(input(\"Introduce tu número: \"))\n",
    "if numero > 0:\n",
    "    print(\"Tu número es positivo\")\n",
    "else:\n",
    "    print(\"Tu número es negativo\")                 "
   ]
  },
  {
   "cell_type": "code",
   "execution_count": 3,
   "metadata": {},
   "outputs": [
    {
     "name": "stdout",
     "output_type": "stream",
     "text": [
      "Introduce tu número: 7\n",
      "Tu número NO pertenece a [-5, 5]\n"
     ]
    }
   ],
   "source": [
    "numero_2 = float(input(\"Introduce tu número: \"))\n",
    "if -5 < numero_2 < 5:\n",
    "    print(\"Tu número pertenece a [-5, 5]\")\n",
    "else:\n",
    "    print(\"Tu número NO pertenece a [-5, 5]\")     "
   ]
  },
  {
   "cell_type": "code",
   "execution_count": 4,
   "metadata": {},
   "outputs": [
    {
     "name": "stdout",
     "output_type": "stream",
     "text": [
      "Introduce el valor de x: 3\n",
      "Introduce el valor de y: 7\n",
      "El punto pertenece al primer cuadrante\n"
     ]
    }
   ],
   "source": [
    "coord_1 = float(input(\"Introduce el valor de x: \"))\n",
    "coord_2 = float(input(\"Introduce el valor de y: \"))\n",
    "if coord_1 > 0 and coord_2 > 0:\n",
    "    print(\"El punto pertenece al primer cuadrante\")\n",
    "elif coord_1 < 0 and coord_2 > 0:\n",
    "    print(\"El punto pertenece al segundo cuadrante\")\n",
    "elif coord_1 < 0 and coord_2 < 0:\n",
    "    print(\"El punto pertence al tercer cuadrante\")\n",
    "else:\n",
    "    print(\"El punto pertenece al cuarto cuadrante\")"
   ]
  },
  {
   "cell_type": "code",
   "execution_count": 5,
   "metadata": {},
   "outputs": [],
   "source": [
    "def division(x, y):\n",
    "    cociente = x//y\n",
    "    resto = x%y\n",
    "    return(cociente, resto)"
   ]
  },
  {
   "cell_type": "code",
   "execution_count": 6,
   "metadata": {},
   "outputs": [
    {
     "data": {
      "text/plain": [
       "(1, 3)"
      ]
     },
     "execution_count": 6,
     "metadata": {},
     "output_type": "execute_result"
    }
   ],
   "source": [
    "division(7, 4)"
   ]
  },
  {
   "cell_type": "code",
   "execution_count": 7,
   "metadata": {},
   "outputs": [],
   "source": [
    "import math"
   ]
  },
  {
   "cell_type": "code",
   "execution_count": 8,
   "metadata": {},
   "outputs": [],
   "source": [
    "def cuadperf(x):\n",
    "    raiz = math.sqrt(x)\n",
    "    num = math.floor(raiz)\n",
    "    if raiz%num == 0:\n",
    "        print(\"El número es cuadrado perfecto\")\n",
    "    else:\n",
    "        print(\"El número NO es cuadrado perfecto\")"
   ]
  },
  {
   "cell_type": "code",
   "execution_count": 10,
   "metadata": {},
   "outputs": [
    {
     "name": "stdout",
     "output_type": "stream",
     "text": [
      "El número NO es cuadrado perfecto\n"
     ]
    }
   ],
   "source": [
    "cuadperf(82)"
   ]
  },
  {
   "cell_type": "code",
   "execution_count": 12,
   "metadata": {},
   "outputs": [
    {
     "name": "stdout",
     "output_type": "stream",
     "text": [
      "Ingresa el año: 2100\n",
      "El año NO es bisiesto\n"
     ]
    }
   ],
   "source": [
    "anio = int(input(\"Ingresa el año: \"))\n",
    "if anio%4 == 0 and anio%100 != 0:\n",
    "    print(\"El año es bisiesto\")\n",
    "elif anio%400 == 0:\n",
    "    print(\"El año es bisiesto\")\n",
    "else:\n",
    "    print(\"El año NO es bisiesto\")"
   ]
  },
  {
   "cell_type": "code",
   "execution_count": 1,
   "metadata": {},
   "outputs": [
    {
     "name": "stdout",
     "output_type": "stream",
     "text": [
      "Ingresa una letra de la a a la h: c\n",
      "Ingresa un numero entero entre 1 y 8: 5\n",
      "La casilla es de color negro.\n"
     ]
    }
   ],
   "source": [
    "letra = str(input(\"Ingresa una letra de la a a la h: \"))\n",
    "numero_aj = int(input(\"Ingresa un numero entero entre 1 y 8: \"))\n",
    "if letra == 'a' and numero_aj%2 == 0:\n",
    "    print(\"La casilla es de color blanco.\")\n",
    "elif letra == 'c' and numero_aj%2 == 0:\n",
    "    print(\"La casilla es de color blanco.\")\n",
    "elif letra == 'e' and numero_aj%2 == 0:\n",
    "    print(\"La casilla es de color blanco.\")\n",
    "elif letra == 'g' and numero_aj%2 == 0:\n",
    "    print(\"La casilla es de color blanco.\")\n",
    "elif letra == 'a' and numero_aj%2 != 0:\n",
    "    print(\"La casilla es de color negro.\")\n",
    "elif letra == 'c' and numero_aj%2 != 0:\n",
    "    print(\"La casilla es de color negro.\")\n",
    "elif letra == 'e' and numero_aj%2 != 0:\n",
    "    print(\"La casilla es de color negro.\")\n",
    "elif letra == 'g' and numero_aj%2 != 0:\n",
    "    print(\"La casilla es de color negro.\")\n",
    "elif letra == 'b' and numero_aj%2 == 0:\n",
    "    print(\"La casilla es de color negro.\")\n",
    "elif letra == 'd' and numero_aj%2 == 0:\n",
    "    print(\"La casilla es de color negro.\")\n",
    "elif letra == 'f' and numero_aj%2 == 0:\n",
    "    print(\"La casilla es de color negro.\")\n",
    "elif letra == 'h' and numero_aj%2 == 0:\n",
    "    print(\"La casilla es de color negro.\")\n",
    "elif letra == 'b' and numero_aj%2 != 0:\n",
    "    print(\"La casilla es de color blanco.\")\n",
    "elif letra == 'd' and numero_aj%2 != 0:\n",
    "    print(\"La casilla es de color blanco.\")\n",
    "elif letra == 'f' and numero_aj%2 != 0:\n",
    "    print(\"La casilla es de color blanco.\")\n",
    "elif letra == 'h' and numero_aj%2 != 0:\n",
    "    print(\"La casilla es de color blanco.\")"
   ]
  },
  {
   "cell_type": "code",
   "execution_count": null,
   "metadata": {},
   "outputs": [],
   "source": []
  },
  {
   "cell_type": "code",
   "execution_count": null,
   "metadata": {},
   "outputs": [],
   "source": []
  }
 ],
 "metadata": {
  "kernelspec": {
   "display_name": "Python 3",
   "language": "python",
   "name": "python3"
  },
  "language_info": {
   "codemirror_mode": {
    "name": "ipython",
    "version": 3
   },
   "file_extension": ".py",
   "mimetype": "text/x-python",
   "name": "python",
   "nbconvert_exporter": "python",
   "pygments_lexer": "ipython3",
   "version": "3.7.3"
  }
 },
 "nbformat": 4,
 "nbformat_minor": 2
}
