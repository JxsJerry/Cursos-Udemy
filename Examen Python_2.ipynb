{
 "cells": [
  {
   "cell_type": "markdown",
   "metadata": {},
   "source": [
    "## Ejercicio 1"
   ]
  },
  {
   "cell_type": "code",
   "execution_count": 1,
   "metadata": {},
   "outputs": [],
   "source": [
    "import math"
   ]
  },
  {
   "cell_type": "code",
   "execution_count": 2,
   "metadata": {},
   "outputs": [],
   "source": [
    "def chicharronera(a,b,c):\n",
    "    x1 = (-b + math.sqrt((math.pow(b,2)) - 4*(a)*(c)))/(2*a)\n",
    "    x2 = (-b - math.sqrt((math.pow(b,2)) - 4*(a)*(c)))/(2*a)\n",
    "    return(x1,x2)"
   ]
  },
  {
   "cell_type": "code",
   "execution_count": 3,
   "metadata": {},
   "outputs": [
    {
     "data": {
      "text/plain": [
       "(3.0, -2.0)"
      ]
     },
     "execution_count": 3,
     "metadata": {},
     "output_type": "execute_result"
    }
   ],
   "source": [
    "chicharronera(1,-1,-6)"
   ]
  },
  {
   "cell_type": "markdown",
   "metadata": {},
   "source": [
    "## Ejercicio 2"
   ]
  },
  {
   "cell_type": "code",
   "execution_count": 4,
   "metadata": {},
   "outputs": [],
   "source": [
    "def palindromo():\n",
    "    fr = input(\"Inserte una frase sin espacios: \")\n",
    "    frl = list(fr)\n",
    "    frlr = frl[::-1]\n",
    "    if frl==frlr:\n",
    "        print(\"La frase es un palíndromo\")\n",
    "    else:\n",
    "        print(\"La frase No es un palíndromo\")"
   ]
  },
  {
   "cell_type": "code",
   "execution_count": 5,
   "metadata": {},
   "outputs": [
    {
     "name": "stdout",
     "output_type": "stream",
     "text": [
      "Inserte una frase sin espacios: anitalavalatina\n",
      "La frase es un palíndromo\n"
     ]
    }
   ],
   "source": [
    "palindromo()"
   ]
  },
  {
   "cell_type": "code",
   "execution_count": null,
   "metadata": {},
   "outputs": [],
   "source": []
  },
  {
   "cell_type": "markdown",
   "metadata": {},
   "source": [
    "## Ejercicio 3"
   ]
  },
  {
   "cell_type": "code",
   "execution_count": 6,
   "metadata": {},
   "outputs": [],
   "source": [
    "raiz = {\"1\":math.sqrt(1), \"2\":math.sqrt(2), \"3\":math.sqrt(3), \"4\":math.sqrt(4), \"5\":math.sqrt(5), \"6\":math.sqrt(6), \"7\":math.sqrt(7), \"8\":math.sqrt(8), \"9\":math.sqrt(9), \"10\":math.sqrt(10)}"
   ]
  },
  {
   "cell_type": "code",
   "execution_count": 7,
   "metadata": {},
   "outputs": [
    {
     "data": {
      "text/plain": [
       "2.0"
      ]
     },
     "execution_count": 7,
     "metadata": {},
     "output_type": "execute_result"
    }
   ],
   "source": [
    "raiz[\"4\"]"
   ]
  },
  {
   "cell_type": "markdown",
   "metadata": {},
   "source": [
    "## Ejercicio 4"
   ]
  },
  {
   "cell_type": "code",
   "execution_count": 8,
   "metadata": {},
   "outputs": [],
   "source": [
    "morse = {\"A\":'._',\n",
    "         \"B\":'_...', \n",
    "         \"C\":'_._.', \n",
    "         \"CH\":'____', \n",
    "         \"D\":'_..', \n",
    "         \"E\":'.', \n",
    "         \"F\":'.._.', \n",
    "         \"G\":'__.', \n",
    "         \"H\":'....', \n",
    "         \"I\":'..', \n",
    "         \"J\":'.___', \n",
    "         \"K\":'_._', \n",
    "         \"L\":'._..', \n",
    "         \"M\":'__', \n",
    "         \"N\":'_.', \n",
    "         \"Ñ\":'__.__', \n",
    "         \"O\":'___', \n",
    "         \"P\":'.__.', \n",
    "         \"Q\":'__._', \n",
    "         \"R\":'._.', \n",
    "         \"S\":'...', \n",
    "         \"T\":'_', \n",
    "         \"U\":'.._', \n",
    "         \"V\":'..._', \n",
    "         \"W\":'.__', \n",
    "         \"X\":'_.._', \n",
    "         \"Y\":'_.__',\n",
    "         \"Z\":'__..'}"
   ]
  },
  {
   "cell_type": "code",
   "execution_count": 9,
   "metadata": {},
   "outputs": [
    {
     "data": {
      "text/plain": [
       "'._'"
      ]
     },
     "execution_count": 9,
     "metadata": {},
     "output_type": "execute_result"
    }
   ],
   "source": [
    "morse[\"A\"]"
   ]
  },
  {
   "cell_type": "code",
   "execution_count": 11,
   "metadata": {},
   "outputs": [
    {
     "name": "stdout",
     "output_type": "stream",
     "text": [
      "Inserte una oración: \n",
      "[]\n"
     ]
    }
   ],
   "source": [
    "oracion = input(\"Inserte una oración: \")\n",
    "oracionl = list(oracion.upper())\n",
    "morsef = []\n",
    "for l in oracionl: #Para cada elemento dentro de mi lista\n",
    "    if l in morse: #Revisamos que los elementos dentro de la lista\n",
    "                   #se encuentren en el diccionario\n",
    "        morsef.append(morse[l]) #Creamos un vector vacío y anidamos \n",
    "                                #cada uno de los elementos que se encuentren \n",
    "                                #en el diccionario a partir de su respectiva clave\n",
    "print(morsef)"
   ]
  },
  {
   "cell_type": "markdown",
   "metadata": {},
   "source": [
    "## Ejercicio 5"
   ]
  },
  {
   "cell_type": "code",
   "execution_count": 12,
   "metadata": {},
   "outputs": [],
   "source": [
    "edad = {\"Govea\":22, \n",
    "        \"Manny\":20, \n",
    "        \"Uriel\":23, \n",
    "        \"Gerardo\":22,\n",
    "        \"Emilio\":22,\n",
    "        \"Paulina\":22}"
   ]
  },
  {
   "cell_type": "code",
   "execution_count": 13,
   "metadata": {},
   "outputs": [],
   "source": [
    "edad2 = {\"Victoria\":21,\n",
    "         \"Paulina\":22,\n",
    "         \"Aranza\":20,\n",
    "         \"Manny\":20,\n",
    "         \"Gerardo\":22}"
   ]
  },
  {
   "cell_type": "code",
   "execution_count": 14,
   "metadata": {},
   "outputs": [
    {
     "name": "stdout",
     "output_type": "stream",
     "text": [
      "['Manny', 'Gerardo', 'Paulina']\n"
     ]
    }
   ],
   "source": [
    "claves = []\n",
    "for c in edad.keys():\n",
    "    if c in edad2.keys():\n",
    "        claves.append(c)\n",
    "print(claves)"
   ]
  },
  {
   "cell_type": "markdown",
   "metadata": {},
   "source": [
    "## Ejercicio 6"
   ]
  },
  {
   "cell_type": "code",
   "execution_count": 17,
   "metadata": {},
   "outputs": [
    {
     "name": "stdout",
     "output_type": "stream",
     "text": [
      "Ingrese un número natural mayor que 2: 5\n",
      "El número ingresado es primo\n",
      "Los números primos menores o iguales que el número introducido son: [2, 3, 5]\n"
     ]
    }
   ],
   "source": [
    "numpr = []\n",
    "k = int(input(\"Ingrese un número natural mayor que 2: \"))\n",
    "for x in range(2,k+1): #Genero un intervalo entre 2 y el número capturado\n",
    "    numpr.append(x) #Anexo todos los números generados a un vector\n",
    "    n=2 #n será mi primer número primo (2)\n",
    "    while n < k: #Genero un contador con n\n",
    "        for i in range(len(numpr)): #Genero un contador con i que corre solo, con la función for\n",
    "            if numpr[i]%n==0 and numpr[i]!=n: #Hago la prueba \n",
    "                numpr.remove(numpr[i]) #Quito aquellos que no cumplan la prueba\n",
    "        n +=1\n",
    "if k in numpr:\n",
    "    print(\"El número ingresado es primo\")\n",
    "else: \n",
    "    print(\"El número ingresado NO es primo\")\n",
    "print(\"Los números primos menores o iguales que el número introducido son: %s\" %numpr) "
   ]
  },
  {
   "cell_type": "markdown",
   "metadata": {},
   "source": [
    "## Ejercicio 7"
   ]
  },
  {
   "cell_type": "code",
   "execution_count": 18,
   "metadata": {},
   "outputs": [],
   "source": [
    "def mayus_st(list):\n",
    "    for i in range(len(list)):\n",
    "        list[i] = list[i].capitalize()\n",
    "    print(list)"
   ]
  },
  {
   "cell_type": "code",
   "execution_count": 19,
   "metadata": {},
   "outputs": [
    {
     "name": "stdout",
     "output_type": "stream",
     "text": [
      "Introduzca aquí su palabra o frase: hola como estas\n",
      "['Hola', 'Como', 'Estas']\n"
     ]
    }
   ],
   "source": [
    "c = input(\"Introduzca aquí su palabra o frase: \").split()\n",
    "mayus_st(c)"
   ]
  },
  {
   "cell_type": "markdown",
   "metadata": {},
   "source": [
    "## Ejercicio 8"
   ]
  },
  {
   "cell_type": "code",
   "execution_count": 20,
   "metadata": {},
   "outputs": [
    {
     "name": "stdout",
     "output_type": "stream",
     "text": [
      "Introduce el primer numero: 2\n",
      "Introduce el segundo numero: 16\n",
      "El máximo común divisor de  2  y  16  es  2\n"
     ]
    }
   ],
   "source": [
    "num1 = int(input(\"Introduce el primer numero: \"))\n",
    "num2 = int(input(\"Introduce el segundo numero: \"))\n",
    "def mcd(num1, num2):\n",
    "    resto = 0\n",
    "    while(num2 > 0):\n",
    "        resto = num2\n",
    "        num2 = num1 % num2\n",
    "        num1 = resto\n",
    "    return num1\n",
    "print(\"El máximo común divisor de \", num1,\" y \", num2,\" es \", mcd(num1, num2))"
   ]
  },
  {
   "cell_type": "markdown",
   "metadata": {},
   "source": [
    "## Ejercicio 9"
   ]
  },
  {
   "cell_type": "code",
   "execution_count": 21,
   "metadata": {},
   "outputs": [],
   "source": [
    "ccesar = {\"A\":\"D\",\n",
    "         \"B\":\"E\", \n",
    "         \"C\":\"F\",  \n",
    "         \"D\":\"G\", \n",
    "         \"E\":\"H\", \n",
    "         \"F\":\"I\", \n",
    "         \"G\":\"J\", \n",
    "         \"H\":\"K\", \n",
    "         \"I\":\"L\", \n",
    "         \"J\":\"M\", \n",
    "         \"K\":\"N\", \n",
    "         \"L\":\"Ñ\", \n",
    "         \"M\":\"O\", \n",
    "         \"N\":\"P\", \n",
    "         \"Ñ\":\"Q\", \n",
    "         \"O\":\"R\", \n",
    "         \"P\":\"S\", \n",
    "         \"Q\":\"T\", \n",
    "         \"R\":\"U\", \n",
    "         \"S\":\"V\", \n",
    "         \"T\":\"W\", \n",
    "         \"U\":\"X\", \n",
    "         \"V\":\"Y\", \n",
    "         \"W\":\"Z\", \n",
    "         \"X\":\"A\", \n",
    "         \"Y\":\"B\",\n",
    "         \"Z\":\"C\"}"
   ]
  },
  {
   "cell_type": "code",
   "execution_count": 33,
   "metadata": {},
   "outputs": [
    {
     "name": "stdout",
     "output_type": "stream",
     "text": [
      "Inserte una frase: Hola amigos\n",
      "K R Ñ D D O L J R V\n"
     ]
    }
   ],
   "source": [
    "cesar = input(\"Inserte una frase: \")\n",
    "cesarc = list(cesar.upper())\n",
    "cesarcif = []\n",
    "for clv in cesarc:\n",
    "    if clv in ccesar:\n",
    "        cesarcif.append(ccesar[clv])\n",
    "texto = \" \".join(cesarcif)\n",
    "print(texto)        "
   ]
  },
  {
   "cell_type": "markdown",
   "metadata": {},
   "source": [
    "## Ejercicio 10"
   ]
  },
  {
   "cell_type": "code",
   "execution_count": 22,
   "metadata": {},
   "outputs": [],
   "source": [
    "def orden(names):\n",
    "    names.sort() # alfabético\n",
    "    print(names, \"\\n | orden alfabético\")\n",
    "    names.sort(reverse=True) # alfabético inverso\n",
    "    print(names, \"\\n | orden alfabético inverso\")\n",
    "    names.sort(key=len) # longitud\n",
    "    print(names, \"\\n | orden de longitud\")"
   ]
  },
  {
   "cell_type": "code",
   "execution_count": 23,
   "metadata": {},
   "outputs": [],
   "source": [
    "names = [\"Gerardo\", \"Manuel\", \"Aranza\", \"Govea\", \"Paulina\", \"Victoria\", \"Uriel\"]"
   ]
  },
  {
   "cell_type": "code",
   "execution_count": 24,
   "metadata": {},
   "outputs": [
    {
     "name": "stdout",
     "output_type": "stream",
     "text": [
      "['Aranza', 'Gerardo', 'Govea', 'Manuel', 'Paulina', 'Uriel', 'Victoria'] \n",
      " | orden alfabético\n",
      "['Victoria', 'Uriel', 'Paulina', 'Manuel', 'Govea', 'Gerardo', 'Aranza'] \n",
      " | orden alfabético inverso\n",
      "['Uriel', 'Govea', 'Manuel', 'Aranza', 'Paulina', 'Gerardo', 'Victoria'] \n",
      " | orden de longitud\n"
     ]
    }
   ],
   "source": [
    "orden(names)"
   ]
  },
  {
   "cell_type": "code",
   "execution_count": null,
   "metadata": {},
   "outputs": [],
   "source": []
  }
 ],
 "metadata": {
  "kernelspec": {
   "display_name": "Python 3",
   "language": "python",
   "name": "python3"
  },
  "language_info": {
   "codemirror_mode": {
    "name": "ipython",
    "version": 3
   },
   "file_extension": ".py",
   "mimetype": "text/x-python",
   "name": "python",
   "nbconvert_exporter": "python",
   "pygments_lexer": "ipython3",
   "version": "3.7.3"
  }
 },
 "nbformat": 4,
 "nbformat_minor": 2
}
